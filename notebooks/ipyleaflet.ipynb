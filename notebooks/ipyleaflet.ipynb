{
 "cells": [
  {
   "cell_type": "code",
   "execution_count": 1,
   "id": "29e48ec7-d076-4cdb-a831-59e0a09162d9",
   "metadata": {},
   "outputs": [],
   "source": [
    "from ipyleaflet import Map, LocalTileLayer, TileLayer, LayersControl, FeatureGroup, LayerGroup, basemaps, basemap_to_tiles, WidgetControl"
   ]
  },
  {
   "cell_type": "code",
   "execution_count": 2,
   "id": "c4fcc41f-c5c8-4f54-87eb-4aa4674381ff",
   "metadata": {
    "editable": true,
    "slideshow": {
     "slide_type": ""
    },
    "tags": []
   },
   "outputs": [],
   "source": [
    "import ipywidgets as widgets"
   ]
  },
  {
   "cell_type": "code",
   "execution_count": 3,
   "id": "857808fe-0675-4443-9100-ab724fa1120c",
   "metadata": {},
   "outputs": [],
   "source": [
    "from ipywidgets import Layout"
   ]
  },
  {
   "cell_type": "code",
   "execution_count": 4,
   "id": "8b438c09-b8db-41e4-9ed5-3243ddd25d88",
   "metadata": {},
   "outputs": [],
   "source": [
    "from IPython.display import display"
   ]
  },
  {
   "cell_type": "code",
   "execution_count": 5,
   "id": "1e1fd483-59c4-4aa8-8666-8f58adff6564",
   "metadata": {
    "editable": true,
    "slideshow": {
     "slide_type": ""
    },
    "tags": []
   },
   "outputs": [],
   "source": [
    "chosen_basemap = basemap_to_tiles(basemaps.OpenStreetMap.Mapnik)\n",
    "chosen_basemap.name = '(basemap) OpenStreetMap Mapnik'"
   ]
  },
  {
   "cell_type": "code",
   "execution_count": 6,
   "id": "760aa374-5315-45f3-80b2-03db3ab0daff",
   "metadata": {},
   "outputs": [],
   "source": [
    "m = Map(center=(13.478, -15.125), zoom=6)"
   ]
  },
  {
   "cell_type": "code",
   "execution_count": 7,
   "id": "15a09091-940e-414d-b4d1-d257c60afc79",
   "metadata": {},
   "outputs": [],
   "source": [
    "water_risk_layers = []\n",
    "population_risk_layers = []\n",
    "absolute_risk_layers = []\n",
    "relative_risk_layers = []\n",
    "checkbox_layers_map = {}"
   ]
  },
  {
   "cell_type": "code",
   "execution_count": 8,
   "id": "fd4505ea-ef10-4a73-84eb-082f41357e55",
   "metadata": {},
   "outputs": [],
   "source": [
    "# Add NDVI layers\n",
    "for season in ['dry', 'wet']:\n",
    "    ndvi_tile_url = TileLayer(\n",
    "        url=f'http://localhost:8080/output/ndvi_suit_{season}_tiles/{{z}}/{{x}}/{{y}}.png',\n",
    "        name=f\"ndvi {season}\",\n",
    "        attribution=\"mine\",\n",
    "        min_zoom=1,\n",
    "        max_zoom=16,\n",
    "        min_native_zoom=1,\n",
    "        max_native_zoom=14,)\n",
    "    water_risk_layers.append(f'ndvi_suit_{season}')\n",
    "    checkbox_layers_map[f'ndvi_suit_{season}'] = ndvi_tile_url"
   ]
  },
  {
   "cell_type": "code",
   "execution_count": 9,
   "id": "cb008c0b-ef32-42c0-966f-364384f7553b",
   "metadata": {},
   "outputs": [],
   "source": [
    "# Add water temperature layers\n",
    "for risk_type in ['parasite', 'snail']:\n",
    "    for season in ['dry', 'wet']:\n",
    "        temp_tile_url = TileLayer(\n",
    "            url=f'http://localhost:8080/output/{risk_type}_water_temp_suit_{season}_tiles/{{z}}/{{x}}/{{y}}.png',\n",
    "            name=f\"{risk_type} water temp {season}\",\n",
    "            attribution=\"mine\",\n",
    "            min_zoom=1,\n",
    "            max_zoom=16,\n",
    "            min_native_zoom=1,\n",
    "            max_native_zoom=14,)\n",
    "        water_risk_layers.append(f'{risk_type}_water_temp_suit_{season}')\n",
    "        checkbox_layers_map[f'{risk_type}_water_temp_suit_{season}'] = temp_tile_url"
   ]
  },
  {
   "cell_type": "code",
   "execution_count": 10,
   "id": "29218342-ab3f-41ad-8e1e-e9bd5fd57b70",
   "metadata": {},
   "outputs": [],
   "source": [
    "# Add population risk layers\n",
    "population_risk_tile_url = TileLayer(\n",
    "    url='http://localhost:8080/output/rural_urbanization_suit_tiles/{z}/{x}/{y}.png',\n",
    "    name=\"Population risk\",\n",
    "    attribution=\"mine\",\n",
    "    min_zoom=1,\n",
    "    max_zoom=16,\n",
    "    min_native_zoom=1,\n",
    "    max_native_zoom=14,)\n",
    "population_risk_layers.append('rural_urbanization_suit')\n",
    "checkbox_layers_map['rural_urbanization_suit'] = population_risk_tile_url"
   ]
  },
  {
   "cell_type": "code",
   "execution_count": 11,
   "id": "25e63d9f-d384-4218-b2a7-be77693049f5",
   "metadata": {},
   "outputs": [],
   "source": [
    "# Add weighted mean risk layer\n",
    "combined_risk_tile_url = TileLayer(\n",
    "    url='http://localhost:8080/output/habitat_suit_weighted_mean_tiles/{z}/{x}/{y}.png',\n",
    "    name=\"Combined risk\",\n",
    "    attribution=\"mine\",\n",
    "    min_zoom=1,\n",
    "    max_zoom=16,\n",
    "    min_native_zoom=1,\n",
    "    max_native_zoom=14,)\n",
    "water_risk_layers.append('habitat_suit_weighted_mean')\n",
    "checkbox_layers_map['habitat_suit_weighted_mean'] = combined_risk_tile_url"
   ]
  },
  {
   "cell_type": "code",
   "execution_count": 12,
   "id": "8d078604-32ae-416b-a1cc-506ef5928156",
   "metadata": {},
   "outputs": [],
   "source": [
    "# Add distance weighted risk (convolution layer)\n",
    "convolved_risk_tile_url = TileLayer(\n",
    "    url='http://localhost:8080/output/convolved_hab_risk_tiles/{z}/{x}/{y}.png',\n",
    "    name=\"Distance weighted risk\",\n",
    "    attribution=\"mine\",\n",
    "    min_zoom=1,\n",
    "    max_zoom=16,\n",
    "    min_native_zoom=1,\n",
    "    max_native_zoom=14,)\n",
    "absolute_risk_layers.append('convolved_hab_risk')\n",
    "checkbox_layers_map['convolved_hab_risk'] = convolved_risk_tile_url"
   ]
  },
  {
   "cell_type": "code",
   "execution_count": 13,
   "id": "fe69eb5a-ee80-46fd-b82c-77bac741e925",
   "metadata": {},
   "outputs": [],
   "source": [
    "# Add normalized distance weighted risk\n",
    "normalized_risk_tile_url = TileLayer(\n",
    "    url='http://localhost:8080/output/normalized_convolved_risk_tiles/{z}/{x}/{y}.png',\n",
    "    name=\"Distance weighted risk\",\n",
    "    attribution=\"mine\",\n",
    "    min_zoom=1,\n",
    "    max_zoom=16,\n",
    "    min_native_zoom=1,\n",
    "    max_native_zoom=14,)\n",
    "relative_risk_layers.append('normalized_convolved_risk')\n",
    "checkbox_layers_map['normalized_convolved_risk'] = normalized_risk_tile_url"
   ]
  },
  {
   "cell_type": "code",
   "execution_count": 14,
   "id": "5bcbaa0f-7daa-4d11-b6f0-c4bbe6eb22da",
   "metadata": {},
   "outputs": [],
   "source": [
    "# Add relative and absolute risk to population outputs\n",
    "for risk_type, layer_group in zip(['abs', 'rel'], [absolute_risk_layers, relative_risk_layers]):\n",
    "    risk_to_pop_tile_url = TileLayer(\n",
    "        url=f'http://localhost:8080/output/risk_to_pop_{risk_type}_tiles/{{z}}/{{x}}/{{y}}.png',\n",
    "        name=f\"Risk to pop {risk_type}\",\n",
    "        attribution=\"mine\",\n",
    "        min_zoom=1,\n",
    "        max_zoom=16,\n",
    "        min_native_zoom=1,\n",
    "        max_native_zoom=14,)\n",
    "    layer_group.append(f'risk_to_pop_{risk_type}')\n",
    "    checkbox_layers_map[f'risk_to_pop_{risk_type}'] = risk_to_pop_tile_url\n",
    "    \n",
    "    risk_to_pop_count_tile_url = TileLayer(\n",
    "        url=f'http://localhost:8080/output/risk_to_pop_count_{risk_type}_tiles/{{z}}/{{x}}/{{y}}.png',\n",
    "        name=f\"Risk to pop count {risk_type}\",\n",
    "        attribution=\"mine\",\n",
    "        min_zoom=1,\n",
    "        max_zoom=16,\n",
    "        min_native_zoom=1,\n",
    "        max_native_zoom=14,)\n",
    "    layer_group.append(f'risk_to_pop_count_{risk_type}')\n",
    "    checkbox_layers_map[f'risk_to_pop_count_{risk_type}'] = risk_to_pop_count_tile_url"
   ]
  },
  {
   "cell_type": "code",
   "execution_count": 15,
   "id": "449a8c6e-24ed-4e9b-96c4-5527103b5bf5",
   "metadata": {},
   "outputs": [
    {
     "data": {
      "application/vnd.jupyter.widget-view+json": {
       "model_id": "8f4aa60e69c046469f903c528546e5b1",
       "version_major": 2,
       "version_minor": 0
      },
      "text/plain": [
       "VBox(children=(HTML(value='<b>Water risk layers<b>'), Checkbox(value=False, description='ndvi_suit_dry', inden…"
      ]
     },
     "metadata": {},
     "output_type": "display_data"
    },
    {
     "data": {
      "application/vnd.jupyter.widget-view+json": {
       "model_id": "790bb21e3d51417383aeb262d3beb5ee",
       "version_major": 2,
       "version_minor": 0
      },
      "text/plain": [
       "Output()"
      ]
     },
     "metadata": {},
     "output_type": "display_data"
    }
   ],
   "source": [
    "out = widgets.Output()\n",
    "\n",
    "@out.capture()\n",
    "def layer_visible_switch(event):\n",
    "    widget = event['owner']\n",
    "    desc_id = widget.description\n",
    "    print(desc_id)\n",
    "    layer_tile_url = checkbox_layers_map[desc_id]\n",
    "    layer_tile_url.visible = event['new']\n",
    "\n",
    "layer_groups = [water_risk_layers, population_risk_layers, absolute_risk_layers, relative_risk_layers]\n",
    "layer_group_sections = [\"Water risk layers\", \"Population risk layers\", \"Absolute risk layers\", \"Relative risk layers\"]\n",
    "widget_list = []\n",
    "for group_title, group_list in zip(layer_group_sections, layer_groups):\n",
    "    group_header_widget = widgets.HTML(description=\"\", value=f'<b>{group_title}<b>')\n",
    "    widget_list.append(group_header_widget)\n",
    "    for layer_key in group_list:\n",
    "        tmp_widget = widgets.Checkbox(\n",
    "                value=False,\n",
    "                description=layer_key,\n",
    "                disabled=False,\n",
    "                indent=False,\n",
    "                layout=Layout(padding='0px 0px 0px 10px', margin='0px 0px 0px 0px'),\n",
    "            )\n",
    "        tmp_widget.observe(layer_visible_switch, names='value')\n",
    "        widget_list.append(tmp_widget)\n",
    "        checkbox_layers_map[layer_key].visible=False\n",
    "        m.add(checkbox_layers_map[layer_key])\n",
    "        \n",
    "vbox_widget = widgets.VBox(widget_list, layout=Layout(height='300px', overflow_y='auto', border='solid', padding='0px 0px 0px 5px'))\n",
    "\n",
    "display(vbox_widget)\n",
    "display(out)\n"
   ]
  },
  {
   "cell_type": "code",
   "execution_count": 16,
   "id": "c4e02e8c-0099-44a0-aa40-f76ab304ded9",
   "metadata": {},
   "outputs": [],
   "source": [
    "widget_control = WidgetControl(widget=vbox_widget, position=\"bottomleft\")"
   ]
  },
  {
   "cell_type": "code",
   "execution_count": 17,
   "id": "87f9ff22-c0c2-42bc-b3f9-998b1317ed67",
   "metadata": {},
   "outputs": [
    {
     "data": {
      "application/vnd.jupyter.widget-view+json": {
       "model_id": "22b67d6cc0fa4c92ac947e8ff306fc95",
       "version_major": 2,
       "version_minor": 0
      },
      "text/plain": [
       "Map(center=[13.478, -15.125], controls=(ZoomControl(options=['position', 'zoom_in_text', 'zoom_in_title', 'zoo…"
      ]
     },
     "metadata": {},
     "output_type": "display_data"
    }
   ],
   "source": [
    "m.add(widget_control)"
   ]
  },
  {
   "cell_type": "code",
   "execution_count": null,
   "id": "e5c09563-b161-4c02-b290-30b628c2a23d",
   "metadata": {},
   "outputs": [],
   "source": [
    "# use the LayersControl to switch basemaps\n",
    "#m.add_control(LayersControl())"
   ]
  },
  {
   "cell_type": "code",
   "execution_count": null,
   "id": "3b0ed07f-9797-4179-996f-86f45e188157",
   "metadata": {},
   "outputs": [],
   "source": [
    "tmp_widget = widgets.Checkbox(\n",
    "                value=False,\n",
    "                description='layer_key',\n",
    "                disabled=False,\n",
    "                indent=True\n",
    "            )\n",
    "tmp_widget.style.keys"
   ]
  },
  {
   "cell_type": "code",
   "execution_count": null,
   "id": "db95948d-a69d-42a7-bc8f-4a19b074891b",
   "metadata": {},
   "outputs": [],
   "source": [
    "import matplotlib.pyplot as plt\n",
    "from os import listdir\n",
    "from os.path import isfile, join\n",
    "from os import walk\n",
    "plot_paths = 'http://localhost:8888/intermediate/plot_previews'\n",
    "#onlyfiles = [f for f in listdir(plot_paths) if isfile(join(plot_paths, f))]\n",
    "onlyfiles = []\n",
    "for dir_path, dir_names, file_names in walk(plot_paths):\n",
    "    onlyfiles = [join(dir_path, f) for f in file_names]\n",
    "    \n"
   ]
  },
  {
   "cell_type": "code",
   "execution_count": null,
   "id": "fb53fe82-9b84-40a7-a35d-555916274a79",
   "metadata": {
    "scrolled": true
   },
   "outputs": [],
   "source": [
    "fig, axs = plt.subplots(nrows=3, ncols=3, figsize=(14, 12),\n",
    "                        subplot_kw={'xticks': [], 'yticks': []})\n",
    "\n",
    "fig.suptitle(\"Suitability function plots\")\n",
    "for ax, image_file in zip(axs.flat, onlyfiles):\n",
    "    img = plt.imread(image_file)\n",
    "    #ax.imshow(grid, interpolation=interp_method, cmap='viridis')\n",
    "    ax.imshow(img)\n",
    "    \n",
    "plt.tight_layout()\n",
    "plt.show()\n"
   ]
  },
  {
   "cell_type": "code",
   "execution_count": null,
   "id": "409df31e-0a67-484a-8759-826a5aa6ea43",
   "metadata": {},
   "outputs": [],
   "source": []
  }
 ],
 "metadata": {
  "kernelspec": {
   "display_name": "Python 3 (ipykernel)",
   "language": "python",
   "name": "python3"
  },
  "language_info": {
   "codemirror_mode": {
    "name": "ipython",
    "version": 3
   },
   "file_extension": ".py",
   "mimetype": "text/x-python",
   "name": "python",
   "nbconvert_exporter": "python",
   "pygments_lexer": "ipython3",
   "version": "3.11.9"
  }
 },
 "nbformat": 4,
 "nbformat_minor": 5
}
