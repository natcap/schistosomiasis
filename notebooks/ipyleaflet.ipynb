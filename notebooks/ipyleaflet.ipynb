{
 "cells": [
  {
   "cell_type": "code",
   "execution_count": null,
   "id": "29e48ec7-d076-4cdb-a831-59e0a09162d9",
   "metadata": {},
   "outputs": [],
   "source": [
    "from ipyleaflet import Map, TileLayer, LayersControl, basemaps, basemap_to_tiles, WidgetControl, LegendControl\n",
    "import ipywidgets as widgets\n",
    "from ipywidgets import Layout\n",
    "from IPython.display import display\n",
    "import IPython\n",
    "import requests\n",
    "import json"
   ]
  },
  {
   "cell_type": "code",
   "execution_count": null,
   "id": "9a3c9032-0ef9-49b1-aef8-a767f417592a",
   "metadata": {},
   "outputs": [],
   "source": [
    "# Load information dynamically created by most recent schisto model run.\n",
    "nb_json_config_path = 'http://localhost:8080/output/nb-json-config.json'\n",
    "\n",
    "# Get the layers from the most recent model run to display\n",
    "nb_json_config = requests.get(nb_json_config_path).json()\n",
    "layer_name_list = []\n",
    "for layer in nb_json_config['layers']:\n",
    "    layer_name_list.append(layer + \"_tiles\")\n",
    "\n",
    "# Get the plot png paths from the most recent model run\n",
    "plot_root_path = 'http://localhost:8080/intermediate/plot_previews/'\n",
    "plot_png_list = [plot_root_path + plot_name for plot_name in nb_json_config['plot_paths']]\n",
    "\n",
    "# Get map center\n",
    "map_center = nb_json_config['aoi_center']\n",
    "\n",
    "# Get legend colors\n",
    "hab_suit_legend = [(\"0%\", \"#ffffb2\"), (\"25%\", \"#fecc5c\"), (\"50%\", \"#fd8d3c\"), (\"75%\", \"#f03b20\"), (\"100%\", \"#bd0026\")]\n",
    "pop_suit_legend = [(\"0%\", \"#f7fbff\"), (\"20%\", \"#d1e2f3\"), (\"40%\", \"#9ac8e0\"), (\"60%\", \"#529dcc\"), (\"80%\", \"#1d6cb1\"), (\"100%\", \"#08306b\")]"
   ]
  },
  {
   "cell_type": "code",
   "execution_count": null,
   "id": "1e1fd483-59c4-4aa8-8666-8f58adff6564",
   "metadata": {
    "editable": true,
    "slideshow": {
     "slide_type": ""
    },
    "tags": []
   },
   "outputs": [],
   "source": [
    "chosen_basemap = basemap_to_tiles(basemaps.OpenStreetMap.Mapnik)\n",
    "chosen_basemap.name = '(basemap) OpenStreetMap Mapnik'\n",
    "# Need to find a way to programmatically get center for diff locations\n",
    "m = Map(center=map_center, zoom=8, layout=Layout(height='600px'))"
   ]
  },
  {
   "cell_type": "code",
   "execution_count": null,
   "id": "15a09091-940e-414d-b4d1-d257c60afc79",
   "metadata": {},
   "outputs": [],
   "source": [
    "# Group layers for easier visualization in map control\n",
    "water_risk_layers = []\n",
    "population_risk_layers = []\n",
    "absolute_risk_layers = []\n",
    "relative_risk_layers = []\n",
    "# Map layer names to TileLayer representation\n",
    "checkbox_layers_map = {}\n",
    "checkbox_legend_map = {}"
   ]
  },
  {
   "cell_type": "code",
   "execution_count": null,
   "id": "fd4505ea-ef10-4a73-84eb-082f41357e55",
   "metadata": {},
   "outputs": [],
   "source": [
    "# Add NDVI layers\n",
    "# TODO: how do we know which layer have been run?\n",
    "# Schisto could save a output/layers.txt we could read, which identifies the tile folders...\n",
    "for season in ['dry', 'wet']:\n",
    "    # only display layers from the most recent model run\n",
    "    base_tile_dir = f'ndvi_suit_{season}_tiles'\n",
    "    if base_tile_dir in layer_name_list:\n",
    "        ndvi_tile_url = TileLayer(\n",
    "            url=f'http://localhost:8080/output/{base_tile_dir}/{{z}}/{{x}}/{{y}}.png',\n",
    "            name=f\"ndvi {season}\",\n",
    "            attribution=\"mine\", #TODO: do we need anything here?\n",
    "            min_zoom=1,\n",
    "            max_zoom=18,\n",
    "            min_native_zoom=1,\n",
    "            max_native_zoom=14,)\n",
    "        water_risk_layers.append(f'ndvi_suit_{season}')\n",
    "        checkbox_layers_map[f'ndvi_suit_{season}'] = ndvi_tile_url\n",
    "        checkbox_legend_map[f'ndvi_suit_{season}'] = {\"title\": \"risk\", \"values\": hab_suit_legend}"
   ]
  },
  {
   "cell_type": "code",
   "execution_count": null,
   "id": "cb008c0b-ef32-42c0-966f-364384f7553b",
   "metadata": {},
   "outputs": [],
   "source": [
    "# Add water temperature layers\n",
    "for risk_type in ['parasite', 'snail']:\n",
    "    for season in ['dry', 'wet']:\n",
    "        # only display layers from the most recent model run\n",
    "        base_tile_dir = f'{risk_type}_water_temp_suit_{season}_tiles'\n",
    "        if base_tile_dir in layer_name_list:\n",
    "            temp_tile_url = TileLayer(\n",
    "                url=f'http://localhost:8080/output/base_tile_dir/{{z}}/{{x}}/{{y}}.png',\n",
    "                name=f\"{risk_type} water temp {season}\",\n",
    "                attribution=\"mine\",\n",
    "                min_zoom=1,\n",
    "                max_zoom=18,\n",
    "                min_native_zoom=1,\n",
    "                max_native_zoom=14,)\n",
    "            water_risk_layers.append(f'{risk_type}_water_temp_suit_{season}')\n",
    "            checkbox_layers_map[f'{risk_type}_water_temp_suit_{season}'] = temp_tile_url\n",
    "            checkbox_legend_map[f'ndvi_suit_{season}'] = {\"title\": \"risk\", \"values\": hab_suit_legend}"
   ]
  },
  {
   "cell_type": "code",
   "execution_count": null,
   "id": "29218342-ab3f-41ad-8e1e-e9bd5fd57b70",
   "metadata": {},
   "outputs": [],
   "source": [
    "# Add population risk layers\n",
    "population_risk_tile_url = TileLayer(\n",
    "    url='http://localhost:8080/output/rural_urbanization_suit_tiles/{z}/{x}/{y}.png',\n",
    "    name=\"Population risk\",\n",
    "    attribution=\"mine\",\n",
    "    min_zoom=1,\n",
    "    max_zoom=18,\n",
    "    min_native_zoom=1,\n",
    "    max_native_zoom=14,)\n",
    "population_risk_layers.append('rural_urbanization_suit')\n",
    "checkbox_layers_map['rural_urbanization_suit'] = population_risk_tile_url\n",
    "checkbox_legend_map[f'ndvi_suit_{season}'] = {\"title\": \"risk\", \"values\": pop_suit_legend}"
   ]
  },
  {
   "cell_type": "code",
   "execution_count": null,
   "id": "25e63d9f-d384-4218-b2a7-be77693049f5",
   "metadata": {},
   "outputs": [],
   "source": [
    "# Add weighted mean risk layer\n",
    "combined_risk_tile_url = TileLayer(\n",
    "    url='http://localhost:8080/output/habitat_suit_weighted_mean_tiles/{z}/{x}/{y}.png',\n",
    "    name=\"Combined risk\",\n",
    "    attribution=\"mine\",\n",
    "    min_zoom=1,\n",
    "    max_zoom=18,\n",
    "    min_native_zoom=1,\n",
    "    max_native_zoom=14,)\n",
    "water_risk_layers.append('habitat_suit_weighted_mean')\n",
    "checkbox_layers_map['habitat_suit_weighted_mean'] = combined_risk_tile_url\n",
    "checkbox_legend_map[f'ndvi_suit_{season}'] = {\"title\": \"risk\", \"values\": hab_suit_legend}"
   ]
  },
  {
   "cell_type": "code",
   "execution_count": null,
   "id": "8d078604-32ae-416b-a1cc-506ef5928156",
   "metadata": {},
   "outputs": [],
   "source": [
    "# Add distance weighted risk (convolution layer)\n",
    "convolved_risk_tile_url = TileLayer(\n",
    "    url='http://localhost:8080/output/convolved_hab_risk_tiles/{z}/{x}/{y}.png',\n",
    "    name=\"Distance weighted risk\",\n",
    "    attribution=\"mine\",\n",
    "    min_zoom=1,\n",
    "    max_zoom=18,\n",
    "    min_native_zoom=1,\n",
    "    max_native_zoom=14,)\n",
    "absolute_risk_layers.append('convolved_hab_risk')\n",
    "checkbox_layers_map['convolved_hab_risk'] = convolved_risk_tile_url\n",
    "checkbox_legend_map[f'ndvi_suit_{season}'] = {\"title\": \"risk\", \"values\": hab_suit_legend}"
   ]
  },
  {
   "cell_type": "code",
   "execution_count": null,
   "id": "fe69eb5a-ee80-46fd-b82c-77bac741e925",
   "metadata": {},
   "outputs": [],
   "source": [
    "# Add normalized distance weighted risk\n",
    "normalized_risk_tile_url = TileLayer(\n",
    "    url='http://localhost:8080/output/normalized_convolved_risk_tiles/{z}/{x}/{y}.png',\n",
    "    name=\"Distance weighted risk\",\n",
    "    attribution=\"mine\",\n",
    "    min_zoom=1,\n",
    "    max_zoom=18,\n",
    "    min_native_zoom=1,\n",
    "    max_native_zoom=14,)\n",
    "relative_risk_layers.append('normalized_convolved_risk')\n",
    "checkbox_layers_map['normalized_convolved_risk'] = normalized_risk_tile_url\n",
    "checkbox_legend_map[f'ndvi_suit_{season}'] = {\"title\": \"risk\", \"values\": hab_suit_legend}"
   ]
  },
  {
   "cell_type": "code",
   "execution_count": null,
   "id": "5bcbaa0f-7daa-4d11-b6f0-c4bbe6eb22da",
   "metadata": {},
   "outputs": [],
   "source": [
    "# Add relative and absolute risk to population outputs\n",
    "for risk_type, layer_group in zip(['abs', 'rel'], [absolute_risk_layers, relative_risk_layers]):\n",
    "    risk_to_pop_tile_url = TileLayer(\n",
    "        url=f'http://localhost:8080/output/risk_to_pop_{risk_type}_tiles/{{z}}/{{x}}/{{y}}.png',\n",
    "        name=f\"Risk to pop {risk_type}\",\n",
    "        attribution=\"mine\",\n",
    "        min_zoom=1,\n",
    "        max_zoom=18,\n",
    "        min_native_zoom=1,\n",
    "        max_native_zoom=14,)\n",
    "    layer_group.append(f'risk_to_pop_{risk_type}')\n",
    "    checkbox_layers_map[f'risk_to_pop_{risk_type}'] = risk_to_pop_tile_url\n",
    "    checkbox_legend_map[f'ndvi_suit_{season}'] = {\"title\": \"risk\", \"values\": pop_suit_legend}\n",
    "    \n",
    "    risk_to_pop_count_tile_url = TileLayer(\n",
    "        url=f'http://localhost:8080/output/risk_to_pop_count_{risk_type}_tiles/{{z}}/{{x}}/{{y}}.png',\n",
    "        name=f\"Risk to pop count {risk_type}\",\n",
    "        attribution=\"mine\",\n",
    "        min_zoom=1,\n",
    "        max_zoom=18,\n",
    "        min_native_zoom=1,\n",
    "        max_native_zoom=14,)\n",
    "    layer_group.append(f'risk_to_pop_count_{risk_type}')\n",
    "    checkbox_layers_map[f'risk_to_pop_count_{risk_type}'] = risk_to_pop_count_tile_url\n",
    "    checkbox_legend_map[f'ndvi_suit_{season}'] = {\"title\": \"risk\", \"values\": pop_suit_legend}"
   ]
  },
  {
   "cell_type": "code",
   "execution_count": null,
   "id": "e2882464-9817-426d-9dd9-1f3b9409552b",
   "metadata": {},
   "outputs": [],
   "source": [
    "# LEGEND CONTROL\n",
    "#import matplotlib.pyplot as plt; import matplotlib as mpl\n",
    "#fig, ax = plt.subplots(figsize=(6, 1), layout='constrained')\n",
    "#norm = mpl.colors.Normalize(vmin=0.0, vmax=1.0)\n",
    "# These hex values map to generic-risk-styles RGB\n",
    "#color_list_ex = [(0, \"#ffffb2\"), (0.25, \"#fecc5c\"), (0.5, \"#fd8d3c\"), (0.75, \"#f03b20\"), (1.0, \"#bd0026\")]\n",
    "#my_cmap = mpl.colors.LinearSegmentedColormap.from_list('mymap', color_list_ex)\n",
    "#fig.colorbar(mpl.cm.ScalarMappable(norm=norm, cmap=my_cmap), cax=ax, orientation='horizontal', label='Some Units', ticks=[0.0, 0.25, 0.5, 0.75, 1.0])\n",
    "#plt.savefig('just_colorbar', bbox_inches='tight')\n",
    "#fig.show()"
   ]
  },
  {
   "cell_type": "code",
   "execution_count": null,
   "id": "449a8c6e-24ed-4e9b-96c4-5527103b5bf5",
   "metadata": {},
   "outputs": [],
   "source": [
    "out = widgets.Output()\n",
    "# Add an inital legend control\n",
    "leg_dict = {}\n",
    "for leg_label, leg_color in pop_suit_legend:\n",
    "    leg_dict[leg_label] = leg_color\n",
    "legend_control = LegendControl(leg_dict, title=\"risk\", position=\"bottomright\")\n",
    "\n",
    "@out.capture()\n",
    "def layer_visible_switch(event):\n",
    "    widget = event['owner']\n",
    "    desc_id = widget.description\n",
    "    print(desc_id)\n",
    "    layer_tile_url = checkbox_layers_map[desc_id]\n",
    "    layer_tile_url.visible = event['new']\n",
    "\n",
    "    layer_leg = checkbox_legend_map[desc_id]\n",
    "    leg_dict = {}\n",
    "    for leg_label, leg_color in layer_legend:\n",
    "        leg_dict[leg_label] = leg_color\n",
    "    \n",
    "    legend_control.legend = leg_dict\n",
    "    \n",
    "layer_groups = [water_risk_layers, population_risk_layers, absolute_risk_layers, relative_risk_layers]\n",
    "layer_group_sections = [\"Water risk layers\", \"Population risk layers\", \"Absolute risk layers\", \"Relative risk layers\"]\n",
    "widget_list = []\n",
    "for group_title, group_list in zip(layer_group_sections, layer_groups):\n",
    "    group_header_widget = widgets.HTML(description=\"\", value=f'<b>{group_title}<b>')\n",
    "    checkbox_widget_group = []\n",
    "    for layer_key in group_list:\n",
    "        tmp_widget = widgets.Checkbox(\n",
    "                value=False,\n",
    "                description=layer_key,\n",
    "                disabled=False,\n",
    "                indent=False,\n",
    "                layout=Layout(padding='0px 0px 0px 10px', margin='0px 0px 0px 0px', width='auto'),\n",
    "            )\n",
    "        tmp_widget.observe(layer_visible_switch, names='value')\n",
    "        checkbox_widget_group.append(tmp_widget)\n",
    "        checkbox_layers_map[layer_key].visible=False\n",
    "        m.add(checkbox_layers_map[layer_key])\n",
    "    \n",
    "    widget_list.append(widgets.Accordion(children=[widgets.VBox(checkbox_widget_group)], titles=(group_title,)))\n",
    "    \n",
    "vbox_widget = widgets.VBox(widget_list, layout=Layout(height='auto', width='auto', overflow_y='auto', padding='0px 0px 0px 0px'))\n",
    "layers_control_acc = widgets.Accordion(children=[vbox_widget], titles=(\"Layers\",), layout=Layout(max_height='250px', padding='0px 0px 0px 0px'))\n"
   ]
  },
  {
   "cell_type": "code",
   "execution_count": null,
   "id": "c4e02e8c-0099-44a0-aa40-f76ab304ded9",
   "metadata": {},
   "outputs": [],
   "source": [
    "widget_control = WidgetControl(widget=layers_control_acc, position=\"bottomleft\")"
   ]
  },
  {
   "cell_type": "code",
   "execution_count": null,
   "id": "cd308498-1495-4a99-b9d0-2e743f32ba69",
   "metadata": {},
   "outputs": [],
   "source": [
    "onlyfiles = plot_png_list\n",
    "plot_widgets = []\n",
    "for plot_image in onlyfiles:\n",
    "    image = IPython.display.Image(plot_image)\n",
    "    tmp_widget = widgets.Image(\n",
    "        value=image.data,\n",
    "        format='png',\n",
    "        #width=300,\n",
    "        #height=400,\n",
    "    )\n",
    "    plot_widgets.append(tmp_widget)\n",
    "\n",
    "plot_grid = widgets.GridBox(plot_widgets, layout=widgets.Layout(grid_template_columns=\"repeat(3, 33%)\", overflow_x='auto'))"
   ]
  },
  {
   "cell_type": "code",
   "execution_count": null,
   "id": "85181dbc-f017-43ec-8700-52888e36d653",
   "metadata": {},
   "outputs": [],
   "source": [
    "map_hbox = widgets.Box([m], layout=Layout(height=\"70%\"))\n",
    "widgets.VBox([map_hbox, plot_grid])"
   ]
  },
  {
   "cell_type": "code",
   "execution_count": null,
   "id": "389a6a75-962c-4526-8662-93308eb72871",
   "metadata": {},
   "outputs": [],
   "source": [
    "%%capture\n",
    "m.add(widget_control)\n",
    "# Add an inital legend control\n",
    "m.add(legend_control)"
   ]
  }
 ],
 "metadata": {
  "kernelspec": {
   "display_name": "Python 3 (ipykernel)",
   "language": "python",
   "name": "python3"
  },
  "language_info": {
   "codemirror_mode": {
    "name": "ipython",
    "version": 3
   },
   "file_extension": ".py",
   "mimetype": "text/x-python",
   "name": "python",
   "nbconvert_exporter": "python",
   "pygments_lexer": "ipython3",
   "version": "3.11.9"
  }
 },
 "nbformat": 4,
 "nbformat_minor": 5
}
