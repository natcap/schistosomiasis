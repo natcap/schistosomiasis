{
 "cells": [
  {
   "cell_type": "code",
   "execution_count": 1,
   "id": "29e48ec7-d076-4cdb-a831-59e0a09162d9",
   "metadata": {},
   "outputs": [],
   "source": [
    "from ipyleaflet import Map, TileLayer, LayersControl, basemaps, basemap_to_tiles, WidgetControl\n",
    "import ipywidgets as widgets\n",
    "from ipywidgets import Layout\n",
    "from IPython.display import display\n",
    "import requests"
   ]
  },
  {
   "cell_type": "code",
   "execution_count": 2,
   "id": "1e1fd483-59c4-4aa8-8666-8f58adff6564",
   "metadata": {
    "editable": true,
    "slideshow": {
     "slide_type": ""
    },
    "tags": []
   },
   "outputs": [],
   "source": [
    "chosen_basemap = basemap_to_tiles(basemaps.OpenStreetMap.Mapnik)\n",
    "chosen_basemap.name = '(basemap) OpenStreetMap Mapnik'\n",
    "# Need to find a way to programmatically get center for diff locations\n",
    "m = Map(center=(13.478, -15.125), zoom=6)"
   ]
  },
  {
   "cell_type": "code",
   "execution_count": 3,
   "id": "15a09091-940e-414d-b4d1-d257c60afc79",
   "metadata": {},
   "outputs": [],
   "source": [
    "# Group layers for easier visualization in map control\n",
    "water_risk_layers = []\n",
    "population_risk_layers = []\n",
    "absolute_risk_layers = []\n",
    "relative_risk_layers = []\n",
    "# Map layer names to TileLayer representation\n",
    "checkbox_layers_map = {}"
   ]
  },
  {
   "cell_type": "code",
   "execution_count": 5,
   "id": "9a3c9032-0ef9-49b1-aef8-a767f417592a",
   "metadata": {},
   "outputs": [
    {
     "name": "stdout",
     "output_type": "stream",
     "text": [
      "['rural_urbanization_suit_tiles', 'snail_water_temp_suit_dry_tiles', 'parasite_water_temp_suit_dry_tiles', 'ndvi_suit_dry_tiles', 'snail_water_temp_suit_wet_tiles', 'parasite_water_temp_suit_wet_tiles', 'ndvi_suit_wet_tiles', 'habitat_suit_weighted_mean_tiles', 'convolved_hab_risk_tiles', 'normalized_convolved_risk_tiles', 'risk_to_pop_abs_tiles', 'risk_to_pop_count_abs_tiles', 'risk_to_pop_rel_tiles', 'risk_to_pop_count_rel_tiles']\n"
     ]
    }
   ],
   "source": [
    "layers_index_path = 'http://localhost:8080/output/jupyter-layers.txt'\n",
    "\n",
    "page = requests.get(layers_index_path).text\n",
    "layer_name_list = []\n",
    "for line in page.splitlines():\n",
    "    layer_name_list.append(line + \"_tiles\")\n",
    "#print(layer_name_list)\n"
   ]
  },
  {
   "cell_type": "code",
   "execution_count": 6,
   "id": "fd4505ea-ef10-4a73-84eb-082f41357e55",
   "metadata": {},
   "outputs": [],
   "source": [
    "# Add NDVI layers\n",
    "# TODO: how do we know which layer have been run?\n",
    "# Schisto could save a output/layers.txt we could read, which identifies the tile folders...\n",
    "for season in ['dry', 'wet']:\n",
    "    # only display layers from the most recent model run\n",
    "    base_tile_dir = f'ndvi_suit_{season}_tiles'\n",
    "    if base_tile_dir in layer_name_list:\n",
    "        ndvi_tile_url = TileLayer(\n",
    "            url=f'http://localhost:8080/output/{base_tile_dir}/{{z}}/{{x}}/{{y}}.png',\n",
    "            name=f\"ndvi {season}\",\n",
    "            attribution=\"mine\", #TODO: do we need anything here?\n",
    "            min_zoom=1,\n",
    "            max_zoom=16,\n",
    "            min_native_zoom=1,\n",
    "            max_native_zoom=14,)\n",
    "        water_risk_layers.append(f'ndvi_suit_{season}')\n",
    "        checkbox_layers_map[f'ndvi_suit_{season}'] = ndvi_tile_url"
   ]
  },
  {
   "cell_type": "code",
   "execution_count": 7,
   "id": "cb008c0b-ef32-42c0-966f-364384f7553b",
   "metadata": {},
   "outputs": [],
   "source": [
    "# Add water temperature layers\n",
    "for risk_type in ['parasite', 'snail']:\n",
    "    for season in ['dry', 'wet']:\n",
    "        # only display layers from the most recent model run\n",
    "        base_tile_dir = f'{risk_type}_water_temp_suit_{season}_tiles'\n",
    "        if base_tile_dir in layer_name_list:\n",
    "            temp_tile_url = TileLayer(\n",
    "                url=f'http://localhost:8080/output/base_tile_dir/{{z}}/{{x}}/{{y}}.png',\n",
    "                name=f\"{risk_type} water temp {season}\",\n",
    "                attribution=\"mine\",\n",
    "                min_zoom=1,\n",
    "                max_zoom=16,\n",
    "                min_native_zoom=1,\n",
    "                max_native_zoom=14,)\n",
    "            water_risk_layers.append(f'{risk_type}_water_temp_suit_{season}')\n",
    "            checkbox_layers_map[f'{risk_type}_water_temp_suit_{season}'] = temp_tile_url"
   ]
  },
  {
   "cell_type": "code",
   "execution_count": 8,
   "id": "29218342-ab3f-41ad-8e1e-e9bd5fd57b70",
   "metadata": {},
   "outputs": [],
   "source": [
    "# Add population risk layers\n",
    "population_risk_tile_url = TileLayer(\n",
    "    url='http://localhost:8080/output/rural_urbanization_suit_tiles/{z}/{x}/{y}.png',\n",
    "    name=\"Population risk\",\n",
    "    attribution=\"mine\",\n",
    "    min_zoom=1,\n",
    "    max_zoom=16,\n",
    "    min_native_zoom=1,\n",
    "    max_native_zoom=14,)\n",
    "population_risk_layers.append('rural_urbanization_suit')\n",
    "checkbox_layers_map['rural_urbanization_suit'] = population_risk_tile_url"
   ]
  },
  {
   "cell_type": "code",
   "execution_count": 9,
   "id": "25e63d9f-d384-4218-b2a7-be77693049f5",
   "metadata": {},
   "outputs": [],
   "source": [
    "# Add weighted mean risk layer\n",
    "combined_risk_tile_url = TileLayer(\n",
    "    url='http://localhost:8080/output/habitat_suit_weighted_mean_tiles/{z}/{x}/{y}.png',\n",
    "    name=\"Combined risk\",\n",
    "    attribution=\"mine\",\n",
    "    min_zoom=1,\n",
    "    max_zoom=16,\n",
    "    min_native_zoom=1,\n",
    "    max_native_zoom=14,)\n",
    "water_risk_layers.append('habitat_suit_weighted_mean')\n",
    "checkbox_layers_map['habitat_suit_weighted_mean'] = combined_risk_tile_url"
   ]
  },
  {
   "cell_type": "code",
   "execution_count": 10,
   "id": "8d078604-32ae-416b-a1cc-506ef5928156",
   "metadata": {},
   "outputs": [],
   "source": [
    "# Add distance weighted risk (convolution layer)\n",
    "convolved_risk_tile_url = TileLayer(\n",
    "    url='http://localhost:8080/output/convolved_hab_risk_tiles/{z}/{x}/{y}.png',\n",
    "    name=\"Distance weighted risk\",\n",
    "    attribution=\"mine\",\n",
    "    min_zoom=1,\n",
    "    max_zoom=16,\n",
    "    min_native_zoom=1,\n",
    "    max_native_zoom=14,)\n",
    "absolute_risk_layers.append('convolved_hab_risk')\n",
    "checkbox_layers_map['convolved_hab_risk'] = convolved_risk_tile_url"
   ]
  },
  {
   "cell_type": "code",
   "execution_count": 11,
   "id": "fe69eb5a-ee80-46fd-b82c-77bac741e925",
   "metadata": {},
   "outputs": [],
   "source": [
    "# Add normalized distance weighted risk\n",
    "normalized_risk_tile_url = TileLayer(\n",
    "    url='http://localhost:8080/output/normalized_convolved_risk_tiles/{z}/{x}/{y}.png',\n",
    "    name=\"Distance weighted risk\",\n",
    "    attribution=\"mine\",\n",
    "    min_zoom=1,\n",
    "    max_zoom=16,\n",
    "    min_native_zoom=1,\n",
    "    max_native_zoom=14,)\n",
    "relative_risk_layers.append('normalized_convolved_risk')\n",
    "checkbox_layers_map['normalized_convolved_risk'] = normalized_risk_tile_url"
   ]
  },
  {
   "cell_type": "code",
   "execution_count": 12,
   "id": "5bcbaa0f-7daa-4d11-b6f0-c4bbe6eb22da",
   "metadata": {},
   "outputs": [],
   "source": [
    "# Add relative and absolute risk to population outputs\n",
    "for risk_type, layer_group in zip(['abs', 'rel'], [absolute_risk_layers, relative_risk_layers]):\n",
    "    risk_to_pop_tile_url = TileLayer(\n",
    "        url=f'http://localhost:8080/output/risk_to_pop_{risk_type}_tiles/{{z}}/{{x}}/{{y}}.png',\n",
    "        name=f\"Risk to pop {risk_type}\",\n",
    "        attribution=\"mine\",\n",
    "        min_zoom=1,\n",
    "        max_zoom=16,\n",
    "        min_native_zoom=1,\n",
    "        max_native_zoom=14,)\n",
    "    layer_group.append(f'risk_to_pop_{risk_type}')\n",
    "    checkbox_layers_map[f'risk_to_pop_{risk_type}'] = risk_to_pop_tile_url\n",
    "    \n",
    "    risk_to_pop_count_tile_url = TileLayer(\n",
    "        url=f'http://localhost:8080/output/risk_to_pop_count_{risk_type}_tiles/{{z}}/{{x}}/{{y}}.png',\n",
    "        name=f\"Risk to pop count {risk_type}\",\n",
    "        attribution=\"mine\",\n",
    "        min_zoom=1,\n",
    "        max_zoom=16,\n",
    "        min_native_zoom=1,\n",
    "        max_native_zoom=14,)\n",
    "    layer_group.append(f'risk_to_pop_count_{risk_type}')\n",
    "    checkbox_layers_map[f'risk_to_pop_count_{risk_type}'] = risk_to_pop_count_tile_url"
   ]
  },
  {
   "cell_type": "code",
   "execution_count": 13,
   "id": "449a8c6e-24ed-4e9b-96c4-5527103b5bf5",
   "metadata": {},
   "outputs": [],
   "source": [
    "out = widgets.Output()\n",
    "\n",
    "@out.capture()\n",
    "def layer_visible_switch(event):\n",
    "    widget = event['owner']\n",
    "    desc_id = widget.description\n",
    "    print(desc_id)\n",
    "    layer_tile_url = checkbox_layers_map[desc_id]\n",
    "    layer_tile_url.visible = event['new']\n",
    "\n",
    "layer_groups = [water_risk_layers, population_risk_layers, absolute_risk_layers, relative_risk_layers]\n",
    "layer_group_sections = [\"Water risk layers\", \"Population risk layers\", \"Absolute risk layers\", \"Relative risk layers\"]\n",
    "widget_list = []\n",
    "for group_title, group_list in zip(layer_group_sections, layer_groups):\n",
    "    group_header_widget = widgets.HTML(description=\"\", value=f'<b>{group_title}<b>')\n",
    "    checkbox_widget_group = []\n",
    "    for layer_key in group_list:\n",
    "        tmp_widget = widgets.Checkbox(\n",
    "                value=False,\n",
    "                description=layer_key,\n",
    "                disabled=False,\n",
    "                indent=False,\n",
    "                layout=Layout(padding='0px 0px 0px 10px', margin='0px 0px 0px 0px', width='auto'),\n",
    "            )\n",
    "        tmp_widget.observe(layer_visible_switch, names='value')\n",
    "        checkbox_widget_group.append(tmp_widget)\n",
    "        checkbox_layers_map[layer_key].visible=False\n",
    "        m.add(checkbox_layers_map[layer_key])\n",
    "    \n",
    "    widget_list.append(widgets.Accordion(children=[widgets.VBox(checkbox_widget_group)], titles=(group_title,)))\n",
    "    \n",
    "vbox_widget = widgets.VBox(widget_list, layout=Layout(height='auto', width='auto', overflow_y='auto', padding='0px 0px 0px 0px'))\n",
    "layers_control_acc = widgets.Accordion(children=[vbox_widget], titles=(\"Layers\",), layout=Layout(max_height='250px', padding='0px 0px 0px 0px'))\n"
   ]
  },
  {
   "cell_type": "code",
   "execution_count": 14,
   "id": "c4e02e8c-0099-44a0-aa40-f76ab304ded9",
   "metadata": {},
   "outputs": [],
   "source": [
    "widget_control = WidgetControl(widget=layers_control_acc, position=\"bottomleft\")"
   ]
  },
  {
   "cell_type": "code",
   "execution_count": 15,
   "id": "87f9ff22-c0c2-42bc-b3f9-998b1317ed67",
   "metadata": {},
   "outputs": [
    {
     "data": {
      "application/vnd.jupyter.widget-view+json": {
       "model_id": "0e4e5802948144539fb332c12e8d77b1",
       "version_major": 2,
       "version_minor": 0
      },
      "text/plain": [
       "Map(center=[13.478, -15.125], controls=(ZoomControl(options=['position', 'zoom_in_text', 'zoom_in_title', 'zoo…"
      ]
     },
     "execution_count": 15,
     "metadata": {},
     "output_type": "execute_result"
    }
   ],
   "source": [
    "m.add(widget_control)"
   ]
  },
  {
   "cell_type": "code",
   "execution_count": null,
   "id": "e5c09563-b161-4c02-b290-30b628c2a23d",
   "metadata": {},
   "outputs": [],
   "source": [
    "# use the LayersControl to switch basemaps\n",
    "#m.add_control(LayersControl())"
   ]
  },
  {
   "cell_type": "code",
   "execution_count": null,
   "id": "db95948d-a69d-42a7-bc8f-4a19b074891b",
   "metadata": {},
   "outputs": [],
   "source": [
    "import matplotlib.pyplot as plt\n",
    "from imageio.v2 import imread\n",
    "\n",
    "plot_index_path = 'http://localhost:8080/intermediate/plot_previews/index.txt'\n",
    "\n",
    "def get_files(url):\n",
    "    plot_root_path = 'http://localhost:8080/intermediate/plot_previews/'\n",
    "    page = requests.get(url).text\n",
    "    plot_png_list = []\n",
    "    for line in page.splitlines():\n",
    "        if ('png' in line.lower()):\n",
    "            plot_png_list.append(plot_root_path + line)\n",
    "    return plot_png_list\n",
    "\n",
    "onlyfiles = get_files(plot_index_path)  "
   ]
  },
  {
   "cell_type": "code",
   "execution_count": null,
   "id": "fb53fe82-9b84-40a7-a35d-555916274a79",
   "metadata": {
    "scrolled": true
   },
   "outputs": [],
   "source": [
    "import math\n",
    "n_rows = math.ceil(len(onlyfiles) / 3)\n",
    "fig_size = (19, 12)\n",
    "fig, axs = plt.subplots(nrows=n_rows, ncols=3, figsize=fig_size,\n",
    "                        subplot_kw={'xticks': [], 'yticks': []})\n",
    "\n",
    "fig.suptitle(\"Suitability function plots\")\n",
    "for ax, image_file in zip(axs.flat, onlyfiles):\n",
    "    url_img = imread(image_file)\n",
    "    ax.imshow(url_img)\n",
    "    ax.set_aspect('equal')\n",
    "\n",
    "hide_ax_index = len(onlyfiles) % 3\n",
    "if hide_ax_index != 0:\n",
    "    for ax_index in range(hide_ax_index,3):\n",
    "        fig.delaxes(axs[n_rows-1][ax_index])\n",
    "plt.tight_layout()\n",
    "plt.show()\n"
   ]
  },
  {
   "cell_type": "code",
   "execution_count": null,
   "id": "409df31e-0a67-484a-8759-826a5aa6ea43",
   "metadata": {},
   "outputs": [],
   "source": []
  }
 ],
 "metadata": {
  "kernelspec": {
   "display_name": "Python 3 (ipykernel)",
   "language": "python",
   "name": "python3"
  },
  "language_info": {
   "codemirror_mode": {
    "name": "ipython",
    "version": 3
   },
   "file_extension": ".py",
   "mimetype": "text/x-python",
   "name": "python",
   "nbconvert_exporter": "python",
   "pygments_lexer": "ipython3",
   "version": "3.11.9"
  }
 },
 "nbformat": 4,
 "nbformat_minor": 5
}
